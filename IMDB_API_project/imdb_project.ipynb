{
 "cells": [
  {
   "cell_type": "code",
   "execution_count": 353,
   "id": "5fef003a",
   "metadata": {},
   "outputs": [],
   "source": [
    "import requests\n",
    "from bs4 import BeautifulSoup\n",
    "import urllib\n",
    "import time\n",
    "import selenium\n",
    "from selenium import webdriver\n",
    "from selenium.webdriver.chrome.options import Options\n",
    "from selenium.webdriver.common.by import By\n",
    "from selenium.webdriver.support.ui import WebDriverWait\n",
    "from selenium.webdriver.support import expected_conditions as EC"
   ]
  },
  {
   "cell_type": "code",
   "execution_count": 354,
   "id": "8bc79470",
   "metadata": {},
   "outputs": [],
   "source": [
    "def get_actors_by_movie_soup(cast_page_soup, num_of_actors_limit=None):\n",
    "    \n",
    "    url='https://www.imdb.com'\n",
    "    actors = {}\n",
    "    titles = cast_page_soup.find_all('td', class_='primary_photo')\n",
    "    \n",
    "    for row in titles:\n",
    "        actor_name = row.find('img')['alt']\n",
    "        actor_url = row.find('a')['href']\n",
    "        act_url = urllib.parse.urljoin(url, actor_url)\n",
    "        actors[actor_name] = act_url\n",
    "\n",
    "    if num_of_actors_limit is not None:\n",
    "        return list(actors.items())[:num_of_actors_limit]\n",
    "    if num_of_actors_limit is None or num_of_actors_limit > len(actors):\n",
    "        return list(actors.items())\n"
   ]
  },
  {
   "cell_type": "code",
   "execution_count": 355,
   "id": "a5cc4699",
   "metadata": {},
   "outputs": [],
   "source": [
    "def get_movies_by_actor_soup(actor_page_soup, num_of_movies_limit=None):\n",
    "        \n",
    "        url='https://www.imdb.com'\n",
    "        \n",
    "        try:\n",
    "            actor_element = actor_page_soup.find(class_ = 'filmo-section-actor')\n",
    "            actor_element_parent = actor_element.parent\n",
    "        except:\n",
    "            actor_element = actor_page_soup.find(class_ = 'filmo-section-actress')\n",
    "            actor_element_parent = actor_element.parent\n",
    "            \n",
    "        actor_element_parent.find_all(class_ = 'ipc-metadata-list-summary-item__t')\n",
    "\n",
    "        exclude_list = [\n",
    "    'TV Series', 'Short', 'Video Game', 'Video short', 'Video', 'TV Movie',\n",
    "    'TV Mini Series', 'TV Mini-Series', 'TV Series short', 'TV Special', 'Music Video']\n",
    "\n",
    "        results = {}\n",
    "        # exclude with filters\n",
    "        for row in actor_element_parent.find_all('div', class_='ipc-metadata-list-summary-item__tc'):\n",
    "            spans = row.find_all('span')\n",
    "            should_be_excluded = False\n",
    "            for span in spans:\n",
    "                text = span.text.strip()\n",
    "                if text in exclude_list:\n",
    "                    should_be_excluded = True\n",
    "                    break\n",
    "\n",
    "            if should_be_excluded:\n",
    "                continue\n",
    "\n",
    "            link = row.find('a')\n",
    "            # skip\n",
    "            if not link['href'].endswith('_act'):\n",
    "                continue\n",
    "\n",
    "            title = link.text\n",
    "            href = link['href']\n",
    "\n",
    "            # skip unreleased movies\n",
    "            if 'unrel' in href:\n",
    "                continue\n",
    "\n",
    "            movie_url = urllib.parse.urljoin(url, href)\n",
    "            \n",
    "            if title != '':\n",
    "                results[title] = movie_url\n",
    "\n",
    "        # checking of num_of_movies_limit      \n",
    "        if num_of_movies_limit is not None:\n",
    "            return list(results.items())[:num_of_movies_limit]\n",
    "        if  num_of_movies_limit is None or num_of_movies_limit > len(results):\n",
    "            return list(results.items())\n",
    "\n"
   ]
  },
  {
   "cell_type": "code",
   "execution_count": 356,
   "id": "8c5e68c8",
   "metadata": {},
   "outputs": [],
   "source": [
    "def imdb_helper_cast(url, num_of_movies_limit=None):\n",
    "    response = requests.get(url)\n",
    "    soup = BeautifulSoup(response.text)\n",
    "    cast = get_actors_by_movie_soup(soup, num_of_movies_limit)\n",
    "    return cast"
   ]
  },
  {
   "cell_type": "code",
   "execution_count": 357,
   "id": "c4f1cb92",
   "metadata": {},
   "outputs": [],
   "source": [
    "def imdb_helper_actor(url_actor, num_of_movies_limit=None ):\n",
    "    options = Options()\n",
    "    options.add_argument(\"--disable-infobars\")\n",
    "    options.add_argument(\"User-Agent: Mozilla/5.0 (Macintosh; Intel Mac OS X 10_15_7) AppleWebKit/605.1.15 (KHTML, like Gecko) Version/15.6.1 Safari/605.1.15\")\n",
    "    driver = webdriver.Chrome(options=options)\n",
    "\n",
    "\n",
    "    driver.get(f\"{url_actor}\")\n",
    "\n",
    "    wait = WebDriverWait(driver, 4)\n",
    "    element = wait.until(EC.element_to_be_clickable((By.XPATH, \"//button[span = 'See all']\")))\n",
    "    driver.execute_script(\"arguments[0].click();\", element)\n",
    "    time.sleep(3)\n",
    "\n",
    "    soup_actor = BeautifulSoup(driver.page_source)\n",
    "    actor_page = get_movies_by_actor_soup(soup_actor, num_of_movies_limit)\n",
    "    return actor_page"
   ]
  },
  {
   "cell_type": "markdown",
   "id": "8cc2c2bb",
   "metadata": {},
   "source": [
    "<h3>RESULTS FOR FUNCTIONS</h3> "
   ]
  },
  {
   "cell_type": "code",
   "execution_count": 358,
   "id": "da7f0dfb",
   "metadata": {},
   "outputs": [
    {
     "name": "stdout",
     "output_type": "stream",
     "text": [
      "the first 10 results: [('Scarlett Johansson', 'https://www.imdb.com/name/nm0424060/'), ('Florence Pugh', 'https://www.imdb.com/name/nm6073955/'), ('Rachel Weisz', 'https://www.imdb.com/name/nm0001838/'), ('David Harbour', 'https://www.imdb.com/name/nm1092086/'), ('Ray Winstone', 'https://www.imdb.com/name/nm0935653/'), ('Ever Anderson', 'https://www.imdb.com/name/nm8349839/'), ('Violet McGraw', 'https://www.imdb.com/name/nm8627157/'), ('O-T Fagbenle', 'https://www.imdb.com/name/nm1282966/'), ('William Hurt', 'https://www.imdb.com/name/nm0000458/'), ('Olga Kurylenko', 'https://www.imdb.com/name/nm1385871/')]\n",
      "amount of elements: 107\n",
      "the first 10 results: [('Scarlett Johansson', 'https://www.imdb.com/name/nm0424060/'), ('Florence Pugh', 'https://www.imdb.com/name/nm6073955/'), ('Rachel Weisz', 'https://www.imdb.com/name/nm0001838/'), ('David Harbour', 'https://www.imdb.com/name/nm1092086/'), ('Ray Winstone', 'https://www.imdb.com/name/nm0935653/'), ('Ever Anderson', 'https://www.imdb.com/name/nm8349839/'), ('Violet McGraw', 'https://www.imdb.com/name/nm8627157/'), ('O-T Fagbenle', 'https://www.imdb.com/name/nm1282966/'), ('William Hurt', 'https://www.imdb.com/name/nm0000458/'), ('Olga Kurylenko', 'https://www.imdb.com/name/nm1385871/')]\n",
      "amount of elements: 107\n",
      "the first 10 results: [('Scarlett Johansson', 'https://www.imdb.com/name/nm0424060/'), ('Florence Pugh', 'https://www.imdb.com/name/nm6073955/'), ('Rachel Weisz', 'https://www.imdb.com/name/nm0001838/'), ('David Harbour', 'https://www.imdb.com/name/nm1092086/'), ('Ray Winstone', 'https://www.imdb.com/name/nm0935653/')]\n",
      "amount of elements: 5\n"
     ]
    }
   ],
   "source": [
    "requests_cast = [\n",
    "    ('https://www.imdb.com/title/tt3480822/fullcredits',),\n",
    "    ('https://www.imdb.com/title/tt3480822/fullcredits', 150),\n",
    "    ('https://www.imdb.com/title/tt3480822/fullcredits', 5)\n",
    "]\n",
    "for request in requests_cast:\n",
    "    result = imdb_helper_cast(*request)\n",
    "    print('the first 10 results:', result[:10])\n",
    "    print('amount of elements:', len(result))"
   ]
  },
  {
   "cell_type": "code",
   "execution_count": 359,
   "id": "f8bb2137",
   "metadata": {},
   "outputs": [
    {
     "name": "stdout",
     "output_type": "stream",
     "text": [
      "the first 10 results: [('Fast X', 'https://www.imdb.com/title/tt5433140/?ref_=nm_flmg_t_2_act'), ('Black Adam', 'https://www.imdb.com/title/tt6443346/?ref_=nm_flmg_t_5_act'), ('Super Pets', 'https://www.imdb.com/title/tt8912936/?ref_=nm_flmg_t_6_act'), ('Red Notice', 'https://www.imdb.com/title/tt7991608/?ref_=nm_flmg_t_8_act'), ('Free Guy', 'https://www.imdb.com/title/tt6264654/?ref_=nm_flmg_t_9_act'), ('Jungle Cruise', 'https://www.imdb.com/title/tt0870154/?ref_=nm_flmg_t_10_act'), ('Jumanji: The Next Level', 'https://www.imdb.com/title/tt7975244/?ref_=nm_flmg_t_14_act'), ('Fast & Furious: Hobbs & Shaw', 'https://www.imdb.com/title/tt6806448/?ref_=nm_flmg_t_17_act'), ('Fighting with My Family', 'https://www.imdb.com/title/tt6513120/?ref_=nm_flmg_t_18_act'), ('Skyscraper', 'https://www.imdb.com/title/tt5758778/?ref_=nm_flmg_t_22_act')]\n",
      "amount of elements: 46\n",
      "the first 10 results: [('Fast X', 'https://www.imdb.com/title/tt5433140/?ref_=nm_flmg_t_2_act'), ('Black Adam', 'https://www.imdb.com/title/tt6443346/?ref_=nm_flmg_t_5_act'), ('Super Pets', 'https://www.imdb.com/title/tt8912936/?ref_=nm_flmg_t_6_act'), ('Red Notice', 'https://www.imdb.com/title/tt7991608/?ref_=nm_flmg_t_8_act'), ('Free Guy', 'https://www.imdb.com/title/tt6264654/?ref_=nm_flmg_t_9_act'), ('Jungle Cruise', 'https://www.imdb.com/title/tt0870154/?ref_=nm_flmg_t_10_act'), ('Jumanji: The Next Level', 'https://www.imdb.com/title/tt7975244/?ref_=nm_flmg_t_14_act'), ('Fast & Furious: Hobbs & Shaw', 'https://www.imdb.com/title/tt6806448/?ref_=nm_flmg_t_17_act'), ('Fighting with My Family', 'https://www.imdb.com/title/tt6513120/?ref_=nm_flmg_t_18_act'), ('Skyscraper', 'https://www.imdb.com/title/tt5758778/?ref_=nm_flmg_t_22_act')]\n",
      "amount of elements: 46\n",
      "the first 10 results: [('Fast X', 'https://www.imdb.com/title/tt5433140/?ref_=nm_flmg_t_2_act'), ('Black Adam', 'https://www.imdb.com/title/tt6443346/?ref_=nm_flmg_t_5_act'), ('Super Pets', 'https://www.imdb.com/title/tt8912936/?ref_=nm_flmg_t_6_act'), ('Red Notice', 'https://www.imdb.com/title/tt7991608/?ref_=nm_flmg_t_8_act'), ('Free Guy', 'https://www.imdb.com/title/tt6264654/?ref_=nm_flmg_t_9_act')]\n",
      "amount of elements: 5\n",
      "the first 10 results: [('Asteroid City', 'https://www.imdb.com/title/tt14230388/?ref_=nm_flmg_t_1_act'), ('Sing 2', 'https://www.imdb.com/title/tt6467266/?ref_=nm_flmg_t_4_act'), ('Black Widow', 'https://www.imdb.com/title/tt3480822/?ref_=nm_flmg_t_5_act'), ('Jojo Rabbit', 'https://www.imdb.com/title/tt2584384/?ref_=nm_flmg_t_7_act'), ('Marriage Story', 'https://www.imdb.com/title/tt7653254/?ref_=nm_flmg_t_8_act'), ('Avengers: Endgame', 'https://www.imdb.com/title/tt4154796/?ref_=nm_flmg_t_9_act'), ('Captain Marvel', 'https://www.imdb.com/title/tt4154664/?ref_=nm_flmg_t_10_act'), ('Avengers: Infinity War', 'https://www.imdb.com/title/tt4154756/?ref_=nm_flmg_t_12_act'), ('Isle of Dogs', 'https://www.imdb.com/title/tt5104604/?ref_=nm_flmg_t_14_act'), ('Rough Night', 'https://www.imdb.com/title/tt4799050/?ref_=nm_flmg_t_15_act')]\n",
      "amount of elements: 55\n",
      "the first 10 results: [('Asteroid City', 'https://www.imdb.com/title/tt14230388/?ref_=nm_flmg_t_1_act'), ('Sing 2', 'https://www.imdb.com/title/tt6467266/?ref_=nm_flmg_t_4_act'), ('Black Widow', 'https://www.imdb.com/title/tt3480822/?ref_=nm_flmg_t_5_act'), ('Jojo Rabbit', 'https://www.imdb.com/title/tt2584384/?ref_=nm_flmg_t_7_act'), ('Marriage Story', 'https://www.imdb.com/title/tt7653254/?ref_=nm_flmg_t_8_act'), ('Avengers: Endgame', 'https://www.imdb.com/title/tt4154796/?ref_=nm_flmg_t_9_act'), ('Captain Marvel', 'https://www.imdb.com/title/tt4154664/?ref_=nm_flmg_t_10_act'), ('Avengers: Infinity War', 'https://www.imdb.com/title/tt4154756/?ref_=nm_flmg_t_12_act'), ('Isle of Dogs', 'https://www.imdb.com/title/tt5104604/?ref_=nm_flmg_t_14_act'), ('Rough Night', 'https://www.imdb.com/title/tt4799050/?ref_=nm_flmg_t_15_act')]\n",
      "amount of elements: 55\n",
      "the first 10 results: [('Asteroid City', 'https://www.imdb.com/title/tt14230388/?ref_=nm_flmg_t_1_act'), ('Sing 2', 'https://www.imdb.com/title/tt6467266/?ref_=nm_flmg_t_4_act'), ('Black Widow', 'https://www.imdb.com/title/tt3480822/?ref_=nm_flmg_t_5_act'), ('Jojo Rabbit', 'https://www.imdb.com/title/tt2584384/?ref_=nm_flmg_t_7_act'), ('Marriage Story', 'https://www.imdb.com/title/tt7653254/?ref_=nm_flmg_t_8_act')]\n",
      "amount of elements: 5\n"
     ]
    }
   ],
   "source": [
    "requests_actor = [\n",
    "    ('https://www.imdb.com/name/nm0425005/',),\n",
    "    ('https://www.imdb.com/name/nm0425005/', 100),\n",
    "    ('https://www.imdb.com/name/nm0425005/', 5),\n",
    "    ('https://www.imdb.com/name/nm0424060/',),\n",
    "    ('https://www.imdb.com/name/nm0424060/', 100),\n",
    "    ('https://www.imdb.com/name/nm0424060/', 5)\n",
    "    \n",
    "]\n",
    "for request in requests_actor:\n",
    "    result = imdb_helper_actor(*request)\n",
    "    print('the first 10 results:', result[:10])\n",
    "    print('amount of elements:', len(result))\n",
    "    "
   ]
  },
  {
   "cell_type": "code",
   "execution_count": null,
   "id": "0938a8d8",
   "metadata": {},
   "outputs": [],
   "source": []
  }
 ],
 "metadata": {
  "kernelspec": {
   "display_name": "Python 3 (ipykernel)",
   "language": "python",
   "name": "python3"
  },
  "language_info": {
   "codemirror_mode": {
    "name": "ipython",
    "version": 3
   },
   "file_extension": ".py",
   "mimetype": "text/x-python",
   "name": "python",
   "nbconvert_exporter": "python",
   "pygments_lexer": "ipython3",
   "version": "3.9.12"
  }
 },
 "nbformat": 4,
 "nbformat_minor": 5
}
