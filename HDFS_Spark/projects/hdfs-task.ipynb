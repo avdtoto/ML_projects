{
 "cells": [
  {
   "cell_type": "markdown",
   "metadata": {},
   "source": [
    "# HDFS\n",
    "\n",
    "\n",
    "There is the log of online store's transactions in several files in json format located along the path /data/transactions/\n",
    "on the cluster in hdfs.\n",
    "\n",
    "File names are `site-transactions-01.json, ..., site-transactions-08.json`.\n",
    "\n",
    "The file structure is as follows:\n",
    "```json\n",
    "{\n",
    "    \"transactions\":\n",
    "    [\n",
    "        {\n",
    "            \"commitTimestamp\": \"2016-03-29 10:28:31\",\n",
    "            \"customerId\": 24,\n",
    "            \"trackId\": 838680843675,\n",
    "            \"goods\": \n",
    "            [\n",
    "                {\n",
    "                    \"amount\": 1, \n",
    "                    \"pricePerUnit\": 811.45, \n",
    "                    \"vendorCode\": \"44\"\n",
    "                },\n",
    "                {\n",
    "                    \"amount\": 1, \n",
    "                    \"pricePerUnit\": 365.86, \n",
    "                    \"vendorCode\": \"60\"\n",
    "                },\n",
    "                ...\n",
    "            ]\n",
    "        },\n",
    "        ...\n",
    "    ]\n",
    "}\n",
    "```\n",
    "\n",
    "You have to calculate how much the customer with `customerId=42` spent in total on the product with `vendorCode=\"104\"`.\n",
    "\n",
    "## Output\n",
    "\n",
    "The resulting number (i.e. 123) as JSON with following structure:\n",
    "```json\n",
    "{\n",
    "    \"q1\": 123\n",
    "}\n",
    "```\n",
    "\n",
    "\n",
    "### Comment\n",
    "It is guaranteed that the size of one file does not exceed the size of one hdfs block.\n",
    "\n",
    "The correctness of the transaction log file is also guaranteed.\n",
    "\n",
    "It is assumed that an item with the same `vendorCode` may appear several times in the list of items of the same transaction.\n",
    "\n",
    "Try to solve the problem using the HDFS Python API.\n",
    "\n",
    "Before getting started, you need to set up your environment.\n",
    "You need to create the file `~/.hdfscli.cfg` containing the following:\n",
    "```\n",
    "[global]\n",
    "default.alias = default\n",
    "\n",
    "[default.alias]\n",
    "url = http://localhost:50070/\n",
    "user = <YOUR_USER_LOGIN>\n",
    "```\n",
    "\n",
    "Now you can use the Python API.\n",
    "```\n",
    ">>> from hdfs import Config\n",
    ">>> client = Config().get_client()\n",
    ">>> client.list('/data')\n",
    "['access_logs', ..., 'lsml' ... ]\n",
    "```\n",
    "\n",
    "More examples:\n",
    "https://hdfscli.readthedocs.io/en/latest/quickstart.html#reading-and-writing-files\n",
    "read, write, downloading and uploading to local filesystem\n",
    "\n",
    "Getting file's status:\n",
    "```\n",
    ">>> client.status('/data/wiki')\n",
    "{'accessTime': 0, 'length': 0, ...}\n",
    "```\n",
    "\n",
    "More libraries for Python: `hadoopy, pydoop, dumbo, mrjob`."
   ]
  },
  {
   "cell_type": "code",
   "execution_count": null,
   "metadata": {},
   "outputs": [],
   "source": [
    "# HERE IS SOLUTION"
   ]
  },
  {
   "cell_type": "code",
   "execution_count": 7,
   "metadata": {
    "tags": []
   },
   "outputs": [
    {
     "data": {
      "text/plain": [
       "['clickstream.csv', 'transactions']"
      ]
     },
     "execution_count": 7,
     "metadata": {},
     "output_type": "execute_result"
    }
   ],
   "source": [
    "from hdfs import Config\n",
    "import json\n",
    "\n",
    "client = Config().get_client()\n",
    "\n",
    "client.list('/data')"
   ]
  },
  {
   "cell_type": "code",
   "execution_count": 21,
   "metadata": {
    "tags": []
   },
   "outputs": [],
   "source": [
    "transactions_list = client.list('/data/transactions/transactions')"
   ]
  },
  {
   "cell_type": "code",
   "execution_count": 23,
   "metadata": {
    "tags": []
   },
   "outputs": [
    {
     "data": {
      "text/plain": [
       "['site-transactions-01.json',\n",
       " 'site-transactions-02.json',\n",
       " 'site-transactions-03.json',\n",
       " 'site-transactions-04.json',\n",
       " 'site-transactions-05.json',\n",
       " 'site-transactions-06.json',\n",
       " 'site-transactions-07.json',\n",
       " 'site-transactions-08.json']"
      ]
     },
     "execution_count": 23,
     "metadata": {},
     "output_type": "execute_result"
    }
   ],
   "source": [
    "transactions_list"
   ]
  },
  {
   "cell_type": "code",
   "execution_count": 35,
   "metadata": {
    "tags": []
   },
   "outputs": [
    {
     "name": "stdout",
     "output_type": "stream",
     "text": [
      "312931.3200000004\n"
     ]
    }
   ],
   "source": [
    "customer_id = 42\n",
    "vendor_code = \"104\"\n",
    "total = 0\n",
    "\n",
    "for file in transactions_list:\n",
    "    path = f'/data/transactions/transactions/{file}'\n",
    "\n",
    "\n",
    "    with client.read(path) as reader:\n",
    "    \n",
    "        content = json.loads(reader.read())\n",
    "        transactions = content.get('transactions', [])\n",
    "\n",
    "        for transaction in transactions:\n",
    "            if transaction['customerId'] == customer_id:\n",
    "                goods = transaction.get('goods', [])\n",
    "\n",
    "                for item in goods:\n",
    "                    if item['vendorCode'] == vendor_code:\n",
    "                        total += item['amount'] * item['pricePerUnit']\n",
    "\n",
    "print(total)"
   ]
  },
  {
   "cell_type": "code",
   "execution_count": 37,
   "metadata": {
    "tags": []
   },
   "outputs": [
    {
     "name": "stdout",
     "output_type": "stream",
     "text": [
      "{\"q1\": 312931.3200000004}\n"
     ]
    }
   ],
   "source": [
    "res = {'q1': total}\n",
    "result = json.dumps(res)\n",
    "print(result)"
   ]
  },
  {
   "cell_type": "code",
   "execution_count": 38,
   "metadata": {
    "tags": []
   },
   "outputs": [],
   "source": [
    "f = open(\"result.json\", \"w\")\n",
    "f.write(result)\n",
    "f.close()"
   ]
  }
 ],
 "metadata": {
  "coursera": {
   "schema_names": [
    "week-4-spark-homework"
   ]
  },
  "kernelspec": {
   "display_name": "Python 3 (ipykernel)",
   "language": "python",
   "name": "python3"
  },
  "language_info": {
   "codemirror_mode": {
    "name": "ipython",
    "version": 3
   },
   "file_extension": ".py",
   "mimetype": "text/x-python",
   "name": "python",
   "nbconvert_exporter": "python",
   "pygments_lexer": "ipython3",
   "version": "3.11.5"
  },
  "vscode": {
   "interpreter": {
    "hash": "31f2aee4e71d21fbe5cf8b01ff0e069b9275f58929596ceb00d14d90e3e16cd6"
   }
  }
 },
 "nbformat": 4,
 "nbformat_minor": 4
}
